{
  "nbformat": 4,
  "nbformat_minor": 0,
  "metadata": {
    "colab": {
      "name": "NDLSearch.ipynb",
      "provenance": []
    },
    "kernelspec": {
      "name": "python3",
      "display_name": "Python 3"
    }
  },
  "cells": [
    {
      "cell_type": "code",
      "metadata": {
        "id": "-w2fWTE5GuqY",
        "colab_type": "code",
        "colab": {}
      },
      "source": [
        "import requests\n",
        "from bs4 import BeautifulSoup\n",
        "import pandas as pd\n",
        "import openpyxl\n",
        "\n",
        "def getNDLItemsByAuthor(author):\n",
        "    target_url = 'https://iss.ndl.go.jp/api/opensearch?creator='+author\n",
        "    soup = BeautifulSoup(requests.get(target_url).text, 'lxml')\n",
        "    \n",
        "    linksToItemPages = []\n",
        "    for guid in soup.find_all('guid'):\n",
        "        linksToItemPages.append(guid.text)\n",
        "    \n",
        "    itemPages = []\n",
        "    for link in linksToItemPages:\n",
        "        itemPages.append(BeautifulSoup(requests.get(link).text, 'lxml'))\n",
        "    \n",
        "    items = []\n",
        "    for itemPage in itemPages:\n",
        "        item = {}\n",
        "        item['出版社・発行所'] = ''\n",
        "        rows = itemPage.find_all('tr')\n",
        "        for row in rows:\n",
        "            if not row.th is None:\n",
        "                if row.th.text.strip() == 'タイトル':\n",
        "                    item['著書・論文名'] = row.td.text.strip()\n",
        "                if row.th.text.strip() in ['掲載誌名','掲載誌情報（URI形式）']:\n",
        "                     item['収録書誌名'] = row.td.text.strip()\n",
        "                if row.th.text.strip() == '著者':\n",
        "                     item['著者'] = row.td.text.strip()\n",
        "                if row.th.text.strip() == '出版社':\n",
        "                     item['出版社・発行所'] = row.td.text.strip()\n",
        "                if row.th.text.strip() in ['出版年(W3CDTF)','出版年月日等']:\n",
        "                     item['出版年'] = row.td.text.strip()\n",
        "                if row.th.text.strip() in ['掲載号','掲載巻']:\n",
        "                     item['巻・号'] = row.td.text.strip()\n",
        "                if item['出版社・発行所'] == '':\n",
        "                    if row.th.text.strip() in ['掲載誌名','掲載誌情報（URI形式）']:\n",
        "                        linkToPubPage = row.td.a.get('href')\n",
        "                        pubPage = BeautifulSoup(requests.get(linkToPubPage).text, 'lxml')\n",
        "                        rows = pubPage.find_all('tr')\n",
        "                        for row in rows:\n",
        "                            if not row.th is None:\n",
        "                                if row.th.text.strip() == '出版社':\n",
        "                                    item['出版社・発行所'] = row.td.text.strip()     \n",
        "                          \n",
        "        items.append(item)\n",
        "        \n",
        "    columns = ['著書・論文名','収録書誌名','出版社・発行所','巻・号','出版年','著者']\n",
        "    pd.DataFrame(items).to_excel('JPROK1.xlsx', sheet_name=author, columns=columns, encoding=\"cp932\")"
      ],
      "execution_count": 0,
      "outputs": []
    },
    {
      "cell_type": "code",
      "metadata": {
        "id": "HjbK8J68TRFR",
        "colab_type": "code",
        "colab": {}
      },
      "source": [
        ""
      ],
      "execution_count": 0,
      "outputs": []
    },
    {
      "cell_type": "code",
      "metadata": {
        "id": "iA69Mb6bG2lu",
        "colab_type": "code",
        "colab": {}
      },
      "source": [
        "getNDLItemsByAuthor('吉澤文寿')"
      ],
      "execution_count": 0,
      "outputs": []
    }
  ]
}